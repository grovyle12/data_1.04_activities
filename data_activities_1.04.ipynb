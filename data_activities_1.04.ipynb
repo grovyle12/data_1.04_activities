{
 "cells": [
  {
   "cell_type": "code",
   "execution_count": 1,
   "id": "c41954c9-d01b-402b-99cf-845ee825b275",
   "metadata": {},
   "outputs": [],
   "source": [
    "import pandas as pd\n",
    "import numpy as np\n",
    "import datetime\n",
    "import time"
   ]
  },
  {
   "cell_type": "markdown",
   "id": "17456645-9cae-4109-b4e3-cc9cba4b3127",
   "metadata": {},
   "source": [
    "# 1.04 Activity 1"
   ]
  },
  {
   "cell_type": "markdown",
   "id": "a00787ab-5be0-4ba7-b735-0131c93cf232",
   "metadata": {},
   "source": [
    "# Load data (file1.csv) in a new Jupyter notebook.  "
   ]
  },
  {
   "cell_type": "code",
   "execution_count": 2,
   "id": "28b3d964-228c-49d9-a882-b4017532d540",
   "metadata": {},
   "outputs": [],
   "source": [
    "df1 = pd.read_csv('C:/Users/mauri/Documents/Important IH Files/data_1.04_activities/files_for_activities/csv_files/file1.csv')"
   ]
  },
  {
   "cell_type": "markdown",
   "id": "b9ba471b-f2ad-4ac4-ab23-b88528de1126",
   "metadata": {},
   "source": [
    "# Write the code to clean the columns 'ic4' and 'ic5' of null values in the dataframe."
   ]
  },
  {
   "cell_type": "code",
   "execution_count": 3,
   "id": "7c9e98f3-2ebb-43e7-8cc9-fe6cbe7ddde4",
   "metadata": {},
   "outputs": [
    {
     "data": {
      "text/plain": [
       "CONTROLN      int64\n",
       "STATE        object\n",
       "GENDER       object\n",
       "HV1          object\n",
       "IC1           int64\n",
       "IC4         float64\n",
       "HVP1          int64\n",
       "IC5          object\n",
       "POBC1         int64\n",
       "POBC2         int64\n",
       "IC2         float64\n",
       "IC3           int64\n",
       "AVGGIFT     float64\n",
       "TCODE         int64\n",
       "DOB           int64\n",
       "DOMAIN       object\n",
       "TARGET_D    float64\n",
       "dtype: object"
      ]
     },
     "execution_count": 3,
     "metadata": {},
     "output_type": "execute_result"
    }
   ],
   "source": [
    "df1.dtypes #awwww shit!!!"
   ]
  },
  {
   "cell_type": "code",
   "execution_count": 11,
   "id": "17243b13-e68a-4482-a94f-2153f9e1a36d",
   "metadata": {},
   "outputs": [
    {
     "data": {
      "text/plain": [
       "445.0596421471173"
      ]
     },
     "execution_count": 11,
     "metadata": {},
     "output_type": "execute_result"
    }
   ],
   "source": [
    "avg_IC4 = np.mean(df1['IC4']) # Mean of average in IC4 Column\n",
    "avg_IC4"
   ]
  },
  {
   "cell_type": "code",
   "execution_count": 5,
   "id": "9e934341-4a59-4123-b6ab-bebe3723be51",
   "metadata": {},
   "outputs": [],
   "source": [
    "df1['IC5'].replace('\\D','', regex = True, inplace = True)\n",
    "# Data had a damn @ in it, USed regex to take out all instances of strings"
   ]
  },
  {
   "cell_type": "code",
   "execution_count": 6,
   "id": "a1207b6a-1b8c-4399-ba24-f3f6a05575f4",
   "metadata": {},
   "outputs": [],
   "source": [
    "df1['IC5'] = pd.to_numeric(df1['IC5']) # Change from object to int64"
   ]
  },
  {
   "cell_type": "code",
   "execution_count": 12,
   "id": "ac3f9ea7-59ec-44f9-88b9-f4e3c3fbc8b3",
   "metadata": {},
   "outputs": [
    {
     "data": {
      "text/plain": [
       "16627.267130089374"
      ]
     },
     "execution_count": 12,
     "metadata": {},
     "output_type": "execute_result"
    }
   ],
   "source": [
    "avg_IC5 = np.mean(df1['IC5']) #Mean of average in IC5 Column\n",
    "avg_IC5"
   ]
  },
  {
   "cell_type": "code",
   "execution_count": 8,
   "id": "138a95e4-0522-4847-abba-a964d1848bcc",
   "metadata": {},
   "outputs": [
    {
     "data": {
      "text/plain": [
       "0"
      ]
     },
     "execution_count": 8,
     "metadata": {},
     "output_type": "execute_result"
    }
   ],
   "source": [
    "df1['IC4'] = df1['IC4'].fillna(avg_IC4) #Replace Values of Null, in this case with Mean\n",
    "df1['IC4'].isna().sum() # Lets check if that worked! it did :D"
   ]
  },
  {
   "cell_type": "code",
   "execution_count": 9,
   "id": "e16a6ba5-21c7-4bc3-b913-de2c56977503",
   "metadata": {},
   "outputs": [
    {
     "data": {
      "text/plain": [
       "0"
      ]
     },
     "execution_count": 9,
     "metadata": {},
     "output_type": "execute_result"
    }
   ],
   "source": [
    "df1['IC5'] = df1['IC5'].fillna(avg_IC5) #Replace Values of Null, in this case with Mean \n",
    "df1['IC5'].isna().sum() # Lets check if that worked! it did :D"
   ]
  },
  {
   "cell_type": "markdown",
   "id": "ff7fe833-3a8b-49cd-ae97-fcdac7aeba22",
   "metadata": {},
   "source": [
    "# Use the head() to check the new dataframe."
   ]
  },
  {
   "cell_type": "code",
   "execution_count": 10,
   "id": "3eb24bcd-924e-4f02-a60e-f4e964910f35",
   "metadata": {},
   "outputs": [
    {
     "data": {
      "text/html": [
       "<div>\n",
       "<style scoped>\n",
       "    .dataframe tbody tr th:only-of-type {\n",
       "        vertical-align: middle;\n",
       "    }\n",
       "\n",
       "    .dataframe tbody tr th {\n",
       "        vertical-align: top;\n",
       "    }\n",
       "\n",
       "    .dataframe thead th {\n",
       "        text-align: right;\n",
       "    }\n",
       "</style>\n",
       "<table border=\"1\" class=\"dataframe\">\n",
       "  <thead>\n",
       "    <tr style=\"text-align: right;\">\n",
       "      <th></th>\n",
       "      <th>CONTROLN</th>\n",
       "      <th>STATE</th>\n",
       "      <th>GENDER</th>\n",
       "      <th>HV1</th>\n",
       "      <th>IC1</th>\n",
       "      <th>IC4</th>\n",
       "      <th>HVP1</th>\n",
       "      <th>IC5</th>\n",
       "      <th>POBC1</th>\n",
       "      <th>POBC2</th>\n",
       "      <th>IC2</th>\n",
       "      <th>IC3</th>\n",
       "      <th>AVGGIFT</th>\n",
       "      <th>TCODE</th>\n",
       "      <th>DOB</th>\n",
       "      <th>DOMAIN</th>\n",
       "      <th>TARGET_D</th>\n",
       "    </tr>\n",
       "  </thead>\n",
       "  <tbody>\n",
       "    <tr>\n",
       "      <th>0</th>\n",
       "      <td>44060</td>\n",
       "      <td>FL</td>\n",
       "      <td>M</td>\n",
       "      <td>AAA896</td>\n",
       "      <td>392</td>\n",
       "      <td>520.0</td>\n",
       "      <td>7</td>\n",
       "      <td>21975</td>\n",
       "      <td>6</td>\n",
       "      <td>16</td>\n",
       "      <td>430.0</td>\n",
       "      <td>466</td>\n",
       "      <td>28.000000</td>\n",
       "      <td>1</td>\n",
       "      <td>1901</td>\n",
       "      <td>C2</td>\n",
       "      <td>100.0</td>\n",
       "    </tr>\n",
       "    <tr>\n",
       "      <th>1</th>\n",
       "      <td>96093</td>\n",
       "      <td>IL</td>\n",
       "      <td>M</td>\n",
       "      <td>537.00</td>\n",
       "      <td>365</td>\n",
       "      <td>473.0</td>\n",
       "      <td>0</td>\n",
       "      <td>19387</td>\n",
       "      <td>1</td>\n",
       "      <td>89</td>\n",
       "      <td>415.0</td>\n",
       "      <td>410</td>\n",
       "      <td>5.666667</td>\n",
       "      <td>0</td>\n",
       "      <td>0</td>\n",
       "      <td>T2</td>\n",
       "      <td>7.0</td>\n",
       "    </tr>\n",
       "    <tr>\n",
       "      <th>2</th>\n",
       "      <td>43333</td>\n",
       "      <td>FL</td>\n",
       "      <td>F</td>\n",
       "      <td>725.00</td>\n",
       "      <td>301</td>\n",
       "      <td>436.0</td>\n",
       "      <td>3</td>\n",
       "      <td>18837</td>\n",
       "      <td>11</td>\n",
       "      <td>17</td>\n",
       "      <td>340.0</td>\n",
       "      <td>361</td>\n",
       "      <td>4.111111</td>\n",
       "      <td>0</td>\n",
       "      <td>2501</td>\n",
       "      <td>C2</td>\n",
       "      <td>5.0</td>\n",
       "    </tr>\n",
       "    <tr>\n",
       "      <th>3</th>\n",
       "      <td>21885</td>\n",
       "      <td>NC</td>\n",
       "      <td>M</td>\n",
       "      <td>AAA1095</td>\n",
       "      <td>401</td>\n",
       "      <td>413.0</td>\n",
       "      <td>7</td>\n",
       "      <td>14014</td>\n",
       "      <td>1</td>\n",
       "      <td>74</td>\n",
       "      <td>407.0</td>\n",
       "      <td>399</td>\n",
       "      <td>27.277778</td>\n",
       "      <td>0</td>\n",
       "      <td>2208</td>\n",
       "      <td>T2</td>\n",
       "      <td>38.0</td>\n",
       "    </tr>\n",
       "    <tr>\n",
       "      <th>4</th>\n",
       "      <td>190108</td>\n",
       "      <td>FL</td>\n",
       "      <td>F</td>\n",
       "      <td>995.00</td>\n",
       "      <td>252</td>\n",
       "      <td>348.0</td>\n",
       "      <td>0</td>\n",
       "      <td>17991</td>\n",
       "      <td>5</td>\n",
       "      <td>6</td>\n",
       "      <td>280.0</td>\n",
       "      <td>316</td>\n",
       "      <td>6.000000</td>\n",
       "      <td>28</td>\n",
       "      <td>0</td>\n",
       "      <td>C2</td>\n",
       "      <td>5.0</td>\n",
       "    </tr>\n",
       "  </tbody>\n",
       "</table>\n",
       "</div>"
      ],
      "text/plain": [
       "   CONTROLN STATE GENDER      HV1  IC1    IC4  HVP1    IC5  POBC1  POBC2  \\\n",
       "0     44060    FL      M   AAA896  392  520.0     7  21975      6     16   \n",
       "1     96093    IL      M   537.00  365  473.0     0  19387      1     89   \n",
       "2     43333    FL      F   725.00  301  436.0     3  18837     11     17   \n",
       "3     21885    NC      M  AAA1095  401  413.0     7  14014      1     74   \n",
       "4    190108    FL      F   995.00  252  348.0     0  17991      5      6   \n",
       "\n",
       "     IC2  IC3    AVGGIFT  TCODE   DOB DOMAIN  TARGET_D  \n",
       "0  430.0  466  28.000000      1  1901     C2     100.0  \n",
       "1  415.0  410   5.666667      0     0     T2       7.0  \n",
       "2  340.0  361   4.111111      0  2501     C2       5.0  \n",
       "3  407.0  399  27.277778      0  2208     T2      38.0  \n",
       "4  280.0  316   6.000000     28     0     C2       5.0  "
      ]
     },
     "execution_count": 10,
     "metadata": {},
     "output_type": "execute_result"
    }
   ],
   "source": [
    "df1.head()"
   ]
  },
  {
   "cell_type": "markdown",
   "id": "1e2f802e-655f-4208-b8ba-4d93b75ecda3",
   "metadata": {},
   "source": [
    "# "
   ]
  },
  {
   "cell_type": "markdown",
   "id": "e90878d3-12b9-4c20-b443-3cdce4f45b4d",
   "metadata": {},
   "source": [
    "# Debate"
   ]
  },
  {
   "cell_type": "markdown",
   "id": "5073c733-edea-43ca-ba7d-ba0c0fcfa5ea",
   "metadata": {},
   "source": [
    "## Is it better to fill null values with the mean or with the median? It depends, with heavy outliers skewing the mean, it may be beneficial to use the median. But in any other case the mean should be fine. This applies when using numerical data obviously, not categorical data\n"
   ]
  },
  {
   "cell_type": "markdown",
   "id": "c5925793-bf19-4ed9-ad5a-5b85a3ca18ed",
   "metadata": {},
   "source": [
    "## Can we drop all rows with null values? It isn't the best idea, since we can lose valuable data that is contained in those rows as well."
   ]
  },
  {
   "cell_type": "markdown",
   "id": "0bfb03da-40ad-41d2-9d4b-8388b4bec7c9",
   "metadata": {},
   "source": [
    "# 1.04 Activity 2\n"
   ]
  },
  {
   "cell_type": "markdown",
   "id": "25a76e79-5959-471c-a83d-40fd32e1d7a9",
   "metadata": {},
   "source": [
    "## Import the data from merged_clean_ver1.csv as a dataframe. There would be a column with the sequence of numbers (to the left of column id). Drop that column(s)."
   ]
  },
  {
   "cell_type": "code",
   "execution_count": 13,
   "id": "90810d88-2e00-4eaa-8924-2e7d9540f0e0",
   "metadata": {},
   "outputs": [],
   "source": [
    "mc1 = pd.read_csv('C:/Users/mauri/Documents/Important IH Files/data_1.04_activities/files_for_activities/csv_files/merged_clean_ver1.csv')"
   ]
  },
  {
   "cell_type": "code",
   "execution_count": 19,
   "id": "8b6ee1bc-2516-4b66-8fd9-270c6fa78378",
   "metadata": {},
   "outputs": [],
   "source": [
    "mc1.rename({'Unnamed: 0\t':'Unnamed:0'}, axis = 1, inplace = True)"
   ]
  },
  {
   "cell_type": "code",
   "execution_count": 21,
   "id": "da3b4ea5-b762-4363-a762-5cb9717eff86",
   "metadata": {},
   "outputs": [],
   "source": [
    "mc1.drop('Unnamed: 0', axis = 1, inplace =True)"
   ]
  },
  {
   "cell_type": "code",
   "execution_count": 22,
   "id": "87eb15f7-cdc1-482d-92d5-82629cb41681",
   "metadata": {},
   "outputs": [
    {
     "data": {
      "text/html": [
       "<div>\n",
       "<style scoped>\n",
       "    .dataframe tbody tr th:only-of-type {\n",
       "        vertical-align: middle;\n",
       "    }\n",
       "\n",
       "    .dataframe tbody tr th {\n",
       "        vertical-align: top;\n",
       "    }\n",
       "\n",
       "    .dataframe thead th {\n",
       "        text-align: right;\n",
       "    }\n",
       "</style>\n",
       "<table border=\"1\" class=\"dataframe\">\n",
       "  <thead>\n",
       "    <tr style=\"text-align: right;\">\n",
       "      <th></th>\n",
       "      <th>id</th>\n",
       "      <th>state</th>\n",
       "      <th>gender</th>\n",
       "      <th>median_home_val</th>\n",
       "      <th>median_household_income</th>\n",
       "      <th>ic2</th>\n",
       "      <th>ic3</th>\n",
       "      <th>ic4</th>\n",
       "      <th>ic5</th>\n",
       "      <th>avggift</th>\n",
       "      <th>target_d</th>\n",
       "    </tr>\n",
       "  </thead>\n",
       "  <tbody>\n",
       "    <tr>\n",
       "      <th>0</th>\n",
       "      <td>44060</td>\n",
       "      <td>FL</td>\n",
       "      <td>M</td>\n",
       "      <td>1158.437751</td>\n",
       "      <td>392</td>\n",
       "      <td>430.0</td>\n",
       "      <td>466</td>\n",
       "      <td>520.0</td>\n",
       "      <td>21975.0</td>\n",
       "      <td>28.000000</td>\n",
       "      <td>100.0</td>\n",
       "    </tr>\n",
       "    <tr>\n",
       "      <th>1</th>\n",
       "      <td>96093</td>\n",
       "      <td>IL</td>\n",
       "      <td>M</td>\n",
       "      <td>537.000000</td>\n",
       "      <td>365</td>\n",
       "      <td>415.0</td>\n",
       "      <td>410</td>\n",
       "      <td>473.0</td>\n",
       "      <td>19387.0</td>\n",
       "      <td>5.666667</td>\n",
       "      <td>7.0</td>\n",
       "    </tr>\n",
       "    <tr>\n",
       "      <th>2</th>\n",
       "      <td>43333</td>\n",
       "      <td>FL</td>\n",
       "      <td>F</td>\n",
       "      <td>725.000000</td>\n",
       "      <td>301</td>\n",
       "      <td>340.0</td>\n",
       "      <td>361</td>\n",
       "      <td>436.0</td>\n",
       "      <td>18837.0</td>\n",
       "      <td>4.111111</td>\n",
       "      <td>5.0</td>\n",
       "    </tr>\n",
       "    <tr>\n",
       "      <th>3</th>\n",
       "      <td>21885</td>\n",
       "      <td>NC</td>\n",
       "      <td>M</td>\n",
       "      <td>1158.437751</td>\n",
       "      <td>401</td>\n",
       "      <td>407.0</td>\n",
       "      <td>399</td>\n",
       "      <td>413.0</td>\n",
       "      <td>14014.0</td>\n",
       "      <td>27.277778</td>\n",
       "      <td>38.0</td>\n",
       "    </tr>\n",
       "    <tr>\n",
       "      <th>4</th>\n",
       "      <td>190108</td>\n",
       "      <td>FL</td>\n",
       "      <td>F</td>\n",
       "      <td>995.000000</td>\n",
       "      <td>252</td>\n",
       "      <td>280.0</td>\n",
       "      <td>316</td>\n",
       "      <td>348.0</td>\n",
       "      <td>17991.0</td>\n",
       "      <td>6.000000</td>\n",
       "      <td>5.0</td>\n",
       "    </tr>\n",
       "  </tbody>\n",
       "</table>\n",
       "</div>"
      ],
      "text/plain": [
       "       id state gender  median_home_val  median_household_income    ic2  ic3  \\\n",
       "0   44060    FL      M      1158.437751                      392  430.0  466   \n",
       "1   96093    IL      M       537.000000                      365  415.0  410   \n",
       "2   43333    FL      F       725.000000                      301  340.0  361   \n",
       "3   21885    NC      M      1158.437751                      401  407.0  399   \n",
       "4  190108    FL      F       995.000000                      252  280.0  316   \n",
       "\n",
       "     ic4      ic5    avggift  target_d  \n",
       "0  520.0  21975.0  28.000000     100.0  \n",
       "1  473.0  19387.0   5.666667       7.0  \n",
       "2  436.0  18837.0   4.111111       5.0  \n",
       "3  413.0  14014.0  27.277778      38.0  \n",
       "4  348.0  17991.0   6.000000       5.0  "
      ]
     },
     "execution_count": 22,
     "metadata": {},
     "output_type": "execute_result"
    }
   ],
   "source": [
    "mc1.head()"
   ]
  },
  {
   "cell_type": "code",
   "execution_count": null,
   "id": "b1e8ae94-55c8-4e37-879e-f0852410e70d",
   "metadata": {},
   "outputs": [],
   "source": [
    "mc1['id'].is_unique #Extra, plz ignore"
   ]
  },
  {
   "cell_type": "markdown",
   "id": "817f36b4-d995-4548-a08b-903d12247691",
   "metadata": {},
   "source": [
    "# Check the column state for null values. Replace those null values with the state that is represented largest number of times in that column\n",
    "\n"
   ]
  },
  {
   "cell_type": "code",
   "execution_count": 29,
   "id": "02c959b4-07b6-44f4-87e6-64556a5c6061",
   "metadata": {},
   "outputs": [
    {
     "data": {
      "text/plain": [
       "0"
      ]
     },
     "execution_count": 29,
     "metadata": {},
     "output_type": "execute_result"
    }
   ],
   "source": [
    "mc1['state'].isna().sum() #There are no null values...Review how hima did it so you can see how to do it, and in a robust way."
   ]
  },
  {
   "cell_type": "markdown",
   "id": "8ce2e4f5-8319-4ac0-ba4a-bd8391c78b32",
   "metadata": {},
   "source": [
    "# Lambda Expression: STUCK\n",
    "\n",
    "Create a simple lambda expression to add three numbers. Take those three numbers as input from the user. (Since you will accept only numbers as valid inputs, check this example to see how to do it.)"
   ]
  },
  {
   "cell_type": "markdown",
   "id": "630e53f4-2d6c-4ceb-8aa9-c3c759c27afb",
   "metadata": {},
   "source": [
    "switch1 = False\n",
    "while switch \n",
    "num1 = input('please enter the first number')\n",
    "if num1.isdigit():\n",
    "    num1 = float(num1)\n",
    "    print('Thank you!')\n",
    "num2 = input('please enter the second number')\n",
    "num3 = input('please enter the third number')\n",
    "#ignore, need to use lambda function    \n",
    "    "
   ]
  },
  {
   "cell_type": "code",
   "execution_count": null,
   "id": "7b959a19-5df7-4a8b-a433-2ce81da2e802",
   "metadata": {},
   "outputs": [],
   "source": [
    "sum_3 = lambda x,y,z: x+y+z"
   ]
  },
  {
   "cell_type": "code",
   "execution_count": null,
   "id": "3acac83f-a1c4-445c-9ad0-5819eb403a2e",
   "metadata": {},
   "outputs": [],
   "source": [
    "sum_3(3,4,5)"
   ]
  },
  {
   "cell_type": "markdown",
   "id": "ed8170d3-53d6-47c2-a00c-56bfbde2cdec",
   "metadata": {},
   "source": [
    "# Lambda Expression\n",
    "\n",
    "Define a list as lst = [1,2,3,4,5,6,7,8,10]. Write a lambda expression to find the cube of a number. Use that lambda expression to find the cube of every number in the list. Define a list comprehension for this question."
   ]
  },
  {
   "cell_type": "code",
   "execution_count": 31,
   "id": "b3b5e870-6874-4452-923a-f7cabdef69d7",
   "metadata": {},
   "outputs": [],
   "source": [
    "lst = [1,2,3,4,5,6,7,8,10]"
   ]
  },
  {
   "cell_type": "code",
   "execution_count": 32,
   "id": "90574d56-b178-4dac-bf13-4e9931fa20b2",
   "metadata": {},
   "outputs": [
    {
     "data": {
      "text/plain": [
       "[1, 8, 27, 64, 125, 216, 343, 512, 1000]"
      ]
     },
     "execution_count": 32,
     "metadata": {},
     "output_type": "execute_result"
    }
   ],
   "source": [
    "lst_cube = list(map(lambda x: x*x*x,lst)) #int type\n",
    "lst_cube"
   ]
  },
  {
   "cell_type": "code",
   "execution_count": 42,
   "id": "d7571846-3381-4bce-8e6e-7b2482622b2b",
   "metadata": {},
   "outputs": [],
   "source": [
    "cube_num = lambda x: x*x*x"
   ]
  },
  {
   "cell_type": "code",
   "execution_count": 44,
   "id": "014f8335-046b-4858-89be-82271029d4f7",
   "metadata": {},
   "outputs": [
    {
     "data": {
      "text/plain": [
       "27"
      ]
     },
     "execution_count": 44,
     "metadata": {},
     "output_type": "execute_result"
    }
   ],
   "source": [
    "cube_num(3)"
   ]
  },
  {
   "cell_type": "code",
   "execution_count": 46,
   "id": "be162481-71fc-49ea-8892-750649d1368c",
   "metadata": {},
   "outputs": [
    {
     "name": "stdout",
     "output_type": "stream",
     "text": [
      "1\n",
      "8\n",
      "27\n",
      "64\n",
      "125\n",
      "216\n",
      "343\n",
      "512\n",
      "1000\n"
     ]
    }
   ],
   "source": [
    "for item in lst:\n",
    "    print(cube_num(item))"
   ]
  },
  {
   "cell_type": "code",
   "execution_count": 47,
   "id": "dd626bf5-fd16-44fb-a183-7604b2cfe198",
   "metadata": {},
   "outputs": [],
   "source": [
    "#List comprehsenion... definitely go over this\n",
    "new_lst = []\n",
    "for item in lst:\n",
    "    new_lst.append(item*2)"
   ]
  },
  {
   "cell_type": "code",
   "execution_count": 48,
   "id": "2a39af45-ea9a-4caa-a9de-3d7021c38e22",
   "metadata": {},
   "outputs": [
    {
     "data": {
      "text/plain": [
       "[2, 4, 6, 8, 10, 12, 14, 16, 20]"
      ]
     },
     "execution_count": 48,
     "metadata": {},
     "output_type": "execute_result"
    }
   ],
   "source": [
    "new_lst"
   ]
  },
  {
   "cell_type": "code",
   "execution_count": 49,
   "id": "a4622028-22c1-4bdd-85c3-bd5e8ed13612",
   "metadata": {},
   "outputs": [
    {
     "data": {
      "text/plain": [
       "[2, 4, 6, 8, 10, 12, 14, 16, 20]"
      ]
     },
     "execution_count": 49,
     "metadata": {},
     "output_type": "execute_result"
    }
   ],
   "source": [
    "new_list =[item*2 for item in lst] #WTFFFFFFFF pay attention to the order\n",
    "new_list"
   ]
  },
  {
   "cell_type": "code",
   "execution_count": 52,
   "id": "ffb4433c-81a0-46e5-8db9-5ebba644c021",
   "metadata": {},
   "outputs": [
    {
     "data": {
      "text/plain": [
       "[1, 8, 27, 64, 125, 216, 343, 512, 1000]"
      ]
     },
     "execution_count": 52,
     "metadata": {},
     "output_type": "execute_result"
    }
   ],
   "source": [
    "new_list =[cube_num(item) for item in lst]\n",
    "new_list"
   ]
  },
  {
   "cell_type": "markdown",
   "id": "2d580334-0ff1-4841-b4d8-b3ba8ade4987",
   "metadata": {},
   "source": [
    "# 1.04 Activity 3\n",
    "Try to convert these functions into lambda functions."
   ]
  },
  {
   "cell_type": "code",
   "execution_count": null,
   "id": "5764efd7-2f0c-43c2-82a2-b5a6b7c172ba",
   "metadata": {},
   "outputs": [],
   "source": [
    "def function_1(a,b):\n",
    "    c=a+b\n",
    "    return c"
   ]
  },
  {
   "cell_type": "code",
   "execution_count": null,
   "id": "6c1742f0-beab-46ec-b1ce-a89b24a17710",
   "metadata": {},
   "outputs": [],
   "source": [
    "f"
   ]
  },
  {
   "cell_type": "code",
   "execution_count": 36,
   "id": "20dd76c2-dc7e-41ac-b0b5-fd7643198b41",
   "metadata": {},
   "outputs": [],
   "source": [
    "sum_two_num = lambda x,y: x+y  # my way"
   ]
  },
  {
   "cell_type": "code",
   "execution_count": 38,
   "id": "65fab574-8e9d-4170-ba7d-941cefc7d224",
   "metadata": {},
   "outputs": [
    {
     "data": {
      "text/plain": [
       "9"
      ]
     },
     "execution_count": 38,
     "metadata": {},
     "output_type": "execute_result"
    }
   ],
   "source": [
    "sum_two_num(4,5)"
   ]
  },
  {
   "cell_type": "code",
   "execution_count": null,
   "id": "f525bedb-6147-4fe1-8ccd-0ef1b98a3184",
   "metadata": {},
   "outputs": [],
   "source": [
    "def function_2(a,b):\n",
    "    c=0\n",
    "    for i in range(a):\n",
    "        c+=2*b\n",
    "    return c"
   ]
  },
  {
   "cell_type": "code",
   "execution_count": 97,
   "id": "8714a801-289e-4ba0-81a8-417b346fb813",
   "metadata": {},
   "outputs": [],
   "source": [
    "#SOL!\n",
    "function_2 = lambda a,b: sum([2*b for i in range (a)]) # inherent return"
   ]
  },
  {
   "cell_type": "code",
   "execution_count": 108,
   "id": "86db8e72-ac1c-46bf-8fce-7c3bf586b9ab",
   "metadata": {},
   "outputs": [
    {
     "data": {
      "text/plain": [
       "24"
      ]
     },
     "execution_count": 108,
     "metadata": {},
     "output_type": "execute_result"
    }
   ],
   "source": [
    "function_2(2,6)"
   ]
  },
  {
   "cell_type": "code",
   "execution_count": 101,
   "id": "38a85f90-ef73-4f29-a826-e4b65c5ecca2",
   "metadata": {},
   "outputs": [],
   "source": [
    "z = [10,40,30,50] "
   ]
  },
  {
   "cell_type": "code",
   "execution_count": 102,
   "id": "67857c1c-633d-4e03-a4bd-cc65ce73521e",
   "metadata": {},
   "outputs": [
    {
     "data": {
      "text/plain": [
       "[1.0, 4.0, 3.0, 5.0]"
      ]
     },
     "execution_count": 102,
     "metadata": {},
     "output_type": "execute_result"
    }
   ],
   "source": [
    "[i/10 for i in z]"
   ]
  },
  {
   "cell_type": "code",
   "execution_count": null,
   "id": "53c2f67d-8aab-4577-a433-6a4df3308382",
   "metadata": {},
   "outputs": [],
   "source": [
    "def function_3(a,b): # b aint even gonna be used\n",
    "    c=0\n",
    "    if a>3:\n",
    "        c=12\n",
    "    else:\n",
    "        c='Too big.'\n",
    "    return c"
   ]
  },
  {
   "cell_type": "code",
   "execution_count": null,
   "id": "9752d6f3-47f5-4b8a-ba86-95befe2187cf",
   "metadata": {},
   "outputs": [],
   "source": []
  },
  {
   "cell_type": "code",
   "execution_count": 104,
   "id": "77572050-2012-49a4-b03c-83fbfc1ec60a",
   "metadata": {},
   "outputs": [],
   "source": [
    "function_3 = lambda a,b : 12 if a>3 else \"Too Big\""
   ]
  },
  {
   "cell_type": "code",
   "execution_count": 106,
   "id": "0071d12c-5600-4d56-addf-cf2433ab4379",
   "metadata": {},
   "outputs": [
    {
     "data": {
      "text/plain": [
       "'Too Big'"
      ]
     },
     "execution_count": 106,
     "metadata": {},
     "output_type": "execute_result"
    }
   ],
   "source": [
    "function_3(3,4)"
   ]
  },
  {
   "cell_type": "markdown",
   "id": "f517ad81-8e33-4b3d-be3a-9a40075bc55e",
   "metadata": {},
   "source": [
    "# Notes Afterwards, More Notes on Lambda Functions"
   ]
  },
  {
   "cell_type": "code",
   "execution_count": null,
   "id": "607747d1-62fa-4061-86d9-55c468131526",
   "metadata": {},
   "outputs": [],
   "source": [
    "sum = 0\n",
    "for i in [1,2,3,4]:\n",
    "    sum = sum + i"
   ]
  },
  {
   "cell_type": "code",
   "execution_count": null,
   "id": "34d3b88e-a017-4b06-9dd6-1d176cf70338",
   "metadata": {},
   "outputs": [],
   "source": [
    "for i in range(10):\n",
    "    print(i)"
   ]
  },
  {
   "cell_type": "code",
   "execution_count": 94,
   "id": "af01bb39-2aee-4099-af96-625e975e4403",
   "metadata": {},
   "outputs": [],
   "source": [
    "lambda_test = lambda lst: sum([item for item in lst])"
   ]
  },
  {
   "cell_type": "code",
   "execution_count": 95,
   "id": "b3f4ac1a-7ac0-4e38-8cf1-a79c836c2904",
   "metadata": {},
   "outputs": [],
   "source": [
    "lambda_test2 = lambda a: sum([item for item in range(a)])"
   ]
  },
  {
   "cell_type": "code",
   "execution_count": 86,
   "id": "fafc8814-be67-465f-95d7-1ec338b96d8a",
   "metadata": {},
   "outputs": [
    {
     "data": {
      "text/plain": [
       "27"
      ]
     },
     "execution_count": 86,
     "metadata": {},
     "output_type": "execute_result"
    }
   ],
   "source": [
    "lambda_test([1,2,4,5,5,5,5,])"
   ]
  },
  {
   "cell_type": "code",
   "execution_count": 92,
   "id": "5ee2f64e-039a-4e1c-abcf-662370a0ba88",
   "metadata": {},
   "outputs": [
    {
     "data": {
      "text/plain": [
       "45"
      ]
     },
     "execution_count": 92,
     "metadata": {},
     "output_type": "execute_result"
    }
   ],
   "source": [
    "lambda_test2(10)"
   ]
  },
  {
   "cell_type": "code",
   "execution_count": 93,
   "id": "b34565e1-89f5-4251-b3fb-e6c5e7bcb4fc",
   "metadata": {},
   "outputs": [],
   "source": [
    "lambda_test3 = lambda lst: min([item for item in lst])"
   ]
  },
  {
   "cell_type": "code",
   "execution_count": null,
   "id": "899f3cbb-acfa-45cf-bf06-507a94a480f0",
   "metadata": {},
   "outputs": [],
   "source": [
    "lambda_test3()"
   ]
  },
  {
   "cell_type": "code",
   "execution_count": null,
   "id": "b9f7d089-f865-4fba-bf9d-508bb1d6346b",
   "metadata": {},
   "outputs": [],
   "source": []
  },
  {
   "cell_type": "markdown",
   "id": "c3b25cfa-044d-48a2-8a21-9ded533aa512",
   "metadata": {},
   "source": [
    "# 1.04 Activity 4\n"
   ]
  },
  {
   "cell_type": "markdown",
   "id": "ce857061-5ddd-4c92-9560-f28ee76b792b",
   "metadata": {},
   "source": [
    "### Create a user-defined method to clean the column state in the dataframe.\n"
   ]
  },
  {
   "cell_type": "code",
   "execution_count": null,
   "id": "130b69a1-d152-4d43-a4da-0a33469b2829",
   "metadata": {},
   "outputs": [],
   "source": [
    "mc1"
   ]
  },
  {
   "cell_type": "code",
   "execution_count": null,
   "id": "0e20407f-f571-4c11-8f95-40dc2ac9da7b",
   "metadata": {},
   "outputs": [],
   "source": [
    "mc1['state'].value_counts()"
   ]
  },
  {
   "cell_type": "code",
   "execution_count": 61,
   "id": "786b2214-797b-43ef-88d3-830b39607006",
   "metadata": {},
   "outputs": [],
   "source": [
    "My own problem set\n",
    "def clean_state(x):\n",
    "    if (x == 'California') or (x == 'Cali'):\n",
    "        return 'CA'\n",
    "    elif (x == 'Tennessee'):\n",
    "        return 'TN'\n",
    "    elif (x == 'Arizona'):\n",
    "        return 'AZ'\n",
    "    else:\n",
    "        return x\n",
    "    "
   ]
  },
  {
   "cell_type": "code",
   "execution_count": null,
   "id": "eacec82e-71bf-4158-bcb1-6886afd0e6ff",
   "metadata": {},
   "outputs": [],
   "source": [
    "#Himanshu Way\n",
    "def clean_state(x):\n",
    "    if x in ['Cali','California']:\n",
    "        return 'CA'\n",
    "    elif (x == 'Tennessee'):\n",
    "        return 'TN'\n",
    "    elif (x == 'Arizona'):\n",
    "        return 'AZ'\n",
    "    else:\n",
    "        return x\n",
    "    "
   ]
  },
  {
   "cell_type": "code",
   "execution_count": 62,
   "id": "a371bd46-5bf2-4bce-8b0d-d14bc39775ac",
   "metadata": {},
   "outputs": [],
   "source": [
    "mc1['clean state'] = list(map(clean_state, mc1['state']))"
   ]
  },
  {
   "cell_type": "code",
   "execution_count": 64,
   "id": "da25969d-b80f-4705-b956-63c4f04771d6",
   "metadata": {},
   "outputs": [
    {
     "data": {
      "text/plain": [
       "array(['FL', 'IL', 'NC', 'TX', 'CA', 'NV', 'AP', 'MI', 'OK', 'AR', 'IN',\n",
       "       'MT', 'WI', 'MO', 'HI', 'UT', 'GA', 'WA', 'ID', 'CT', 'AL', 'ND',\n",
       "       'SC', 'IA', 'CO', 'LA', 'OR', 'SD', 'TN', 'NM', 'AZ', 'MN', 'KY',\n",
       "       'NJ', 'NE', 'KS', 'MS', 'NY', 'WY', 'MD', 'AK', 'VA', 'AE', 'AA',\n",
       "       'PA', 'VT', 'WV', 'GU'], dtype=object)"
      ]
     },
     "execution_count": 64,
     "metadata": {},
     "output_type": "execute_result"
    }
   ],
   "source": [
    "mc1['clean state'].unique() #Save space, time...lordy"
   ]
  },
  {
   "cell_type": "markdown",
   "id": "49f3a3dc-1c5e-44bf-a690-b4a02ee786a4",
   "metadata": {},
   "source": [
    "### Use string functions to standardize the states to uppercase and use the strip function to clean the strings as well.\n"
   ]
  },
  {
   "cell_type": "code",
   "execution_count": 66,
   "id": "cd083078-3285-4597-b95f-c33fc39d4bfb",
   "metadata": {},
   "outputs": [
    {
     "data": {
      "text/plain": [
       "Index(['id', 'state', 'gender', 'median_home_val', 'median_household_income',\n",
       "       'ic2', 'ic3', 'ic4', 'ic5', 'avggift', 'target_d', 'clean state'],\n",
       "      dtype='object')"
      ]
     },
     "execution_count": 66,
     "metadata": {},
     "output_type": "execute_result"
    }
   ],
   "source": [
    "mc1.columns"
   ]
  },
  {
   "cell_type": "code",
   "execution_count": 70,
   "id": "8ac12905-8f04-4745-87b3-1097e3bbb788",
   "metadata": {},
   "outputs": [],
   "source": [
    "mc1.columns = list(map(lambda x: x.upper().strip(), mc1.columns))"
   ]
  },
  {
   "cell_type": "code",
   "execution_count": 71,
   "id": "ebb60253-7f61-4219-aa6a-b911b695c6d7",
   "metadata": {},
   "outputs": [
    {
     "data": {
      "text/plain": [
       "Index(['ID', 'STATE', 'GENDER', 'MEDIAN_HOME_VAL', 'MEDIAN_HOUSEHOLD_INCOME',\n",
       "       'IC2', 'IC3', 'IC4', 'IC5', 'AVGGIFT', 'TARGET_D', 'CLEAN STATE'],\n",
       "      dtype='object')"
      ]
     },
     "execution_count": 71,
     "metadata": {},
     "output_type": "execute_result"
    }
   ],
   "source": [
    "mc1.columns"
   ]
  },
  {
   "cell_type": "code",
   "execution_count": null,
   "id": "6527faf7-4ae4-44fb-ad75-17bbbe4479ec",
   "metadata": {},
   "outputs": [],
   "source": []
  },
  {
   "cell_type": "markdown",
   "id": "6425b85e-3e27-4936-8e78-a7bab886afd3",
   "metadata": {},
   "source": [
    "# NOTES for lab"
   ]
  },
  {
   "cell_type": "code",
   "execution_count": 109,
   "id": "7fb361d0-9d26-4522-ac1e-057e4e273136",
   "metadata": {},
   "outputs": [],
   "source": [
    "def clean_dataframe(df):\n",
    "    df.columns = list(map(lambda x: x.upper().strip().replace('-','_'),df.columns))\n",
    "    df['IC4'] = df['IC4'].fillna(np.mean(df['IC4']))\n",
    "    df_clean = df\n",
    "    return df\n"
   ]
  },
  {
   "cell_type": "code",
   "execution_count": 110,
   "id": "0f9b0b41-9526-408a-b06a-68dceb31740b",
   "metadata": {},
   "outputs": [
    {
     "data": {
      "text/html": [
       "<div>\n",
       "<style scoped>\n",
       "    .dataframe tbody tr th:only-of-type {\n",
       "        vertical-align: middle;\n",
       "    }\n",
       "\n",
       "    .dataframe tbody tr th {\n",
       "        vertical-align: top;\n",
       "    }\n",
       "\n",
       "    .dataframe thead th {\n",
       "        text-align: right;\n",
       "    }\n",
       "</style>\n",
       "<table border=\"1\" class=\"dataframe\">\n",
       "  <thead>\n",
       "    <tr style=\"text-align: right;\">\n",
       "      <th></th>\n",
       "      <th>ID</th>\n",
       "      <th>STATE</th>\n",
       "      <th>GENDER</th>\n",
       "      <th>MEDIAN_HOME_VAL</th>\n",
       "      <th>MEDIAN_HOUSEHOLD_INCOME</th>\n",
       "      <th>IC2</th>\n",
       "      <th>IC3</th>\n",
       "      <th>IC4</th>\n",
       "      <th>IC5</th>\n",
       "      <th>AVGGIFT</th>\n",
       "      <th>TARGET_D</th>\n",
       "      <th>CLEAN STATE</th>\n",
       "    </tr>\n",
       "  </thead>\n",
       "  <tbody>\n",
       "    <tr>\n",
       "      <th>0</th>\n",
       "      <td>44060</td>\n",
       "      <td>FL</td>\n",
       "      <td>M</td>\n",
       "      <td>1158.437751</td>\n",
       "      <td>392</td>\n",
       "      <td>430.0</td>\n",
       "      <td>466</td>\n",
       "      <td>520.0</td>\n",
       "      <td>21975.0</td>\n",
       "      <td>28.000000</td>\n",
       "      <td>100.0</td>\n",
       "      <td>FL</td>\n",
       "    </tr>\n",
       "    <tr>\n",
       "      <th>1</th>\n",
       "      <td>96093</td>\n",
       "      <td>IL</td>\n",
       "      <td>M</td>\n",
       "      <td>537.000000</td>\n",
       "      <td>365</td>\n",
       "      <td>415.0</td>\n",
       "      <td>410</td>\n",
       "      <td>473.0</td>\n",
       "      <td>19387.0</td>\n",
       "      <td>5.666667</td>\n",
       "      <td>7.0</td>\n",
       "      <td>IL</td>\n",
       "    </tr>\n",
       "    <tr>\n",
       "      <th>2</th>\n",
       "      <td>43333</td>\n",
       "      <td>FL</td>\n",
       "      <td>F</td>\n",
       "      <td>725.000000</td>\n",
       "      <td>301</td>\n",
       "      <td>340.0</td>\n",
       "      <td>361</td>\n",
       "      <td>436.0</td>\n",
       "      <td>18837.0</td>\n",
       "      <td>4.111111</td>\n",
       "      <td>5.0</td>\n",
       "      <td>FL</td>\n",
       "    </tr>\n",
       "    <tr>\n",
       "      <th>3</th>\n",
       "      <td>21885</td>\n",
       "      <td>NC</td>\n",
       "      <td>M</td>\n",
       "      <td>1158.437751</td>\n",
       "      <td>401</td>\n",
       "      <td>407.0</td>\n",
       "      <td>399</td>\n",
       "      <td>413.0</td>\n",
       "      <td>14014.0</td>\n",
       "      <td>27.277778</td>\n",
       "      <td>38.0</td>\n",
       "      <td>NC</td>\n",
       "    </tr>\n",
       "    <tr>\n",
       "      <th>4</th>\n",
       "      <td>190108</td>\n",
       "      <td>FL</td>\n",
       "      <td>F</td>\n",
       "      <td>995.000000</td>\n",
       "      <td>252</td>\n",
       "      <td>280.0</td>\n",
       "      <td>316</td>\n",
       "      <td>348.0</td>\n",
       "      <td>17991.0</td>\n",
       "      <td>6.000000</td>\n",
       "      <td>5.0</td>\n",
       "      <td>FL</td>\n",
       "    </tr>\n",
       "    <tr>\n",
       "      <th>...</th>\n",
       "      <td>...</td>\n",
       "      <td>...</td>\n",
       "      <td>...</td>\n",
       "      <td>...</td>\n",
       "      <td>...</td>\n",
       "      <td>...</td>\n",
       "      <td>...</td>\n",
       "      <td>...</td>\n",
       "      <td>...</td>\n",
       "      <td>...</td>\n",
       "      <td>...</td>\n",
       "      <td>...</td>\n",
       "    </tr>\n",
       "    <tr>\n",
       "      <th>3988</th>\n",
       "      <td>66762</td>\n",
       "      <td>MI</td>\n",
       "      <td>F</td>\n",
       "      <td>632.000000</td>\n",
       "      <td>279</td>\n",
       "      <td>336.0</td>\n",
       "      <td>339</td>\n",
       "      <td>388.0</td>\n",
       "      <td>12653.0</td>\n",
       "      <td>8.533333</td>\n",
       "      <td>5.0</td>\n",
       "      <td>MI</td>\n",
       "    </tr>\n",
       "    <tr>\n",
       "      <th>3989</th>\n",
       "      <td>6443</td>\n",
       "      <td>FL</td>\n",
       "      <td>M</td>\n",
       "      <td>595.000000</td>\n",
       "      <td>252</td>\n",
       "      <td>263.0</td>\n",
       "      <td>262</td>\n",
       "      <td>274.0</td>\n",
       "      <td>11132.0</td>\n",
       "      <td>14.692308</td>\n",
       "      <td>20.0</td>\n",
       "      <td>FL</td>\n",
       "    </tr>\n",
       "    <tr>\n",
       "      <th>3990</th>\n",
       "      <td>151175</td>\n",
       "      <td>CA</td>\n",
       "      <td>F</td>\n",
       "      <td>2707.000000</td>\n",
       "      <td>507</td>\n",
       "      <td>504.0</td>\n",
       "      <td>538</td>\n",
       "      <td>537.0</td>\n",
       "      <td>16165.0</td>\n",
       "      <td>12.117647</td>\n",
       "      <td>22.0</td>\n",
       "      <td>CA</td>\n",
       "    </tr>\n",
       "    <tr>\n",
       "      <th>3991</th>\n",
       "      <td>151504</td>\n",
       "      <td>CA</td>\n",
       "      <td>M</td>\n",
       "      <td>2666.000000</td>\n",
       "      <td>535</td>\n",
       "      <td>609.0</td>\n",
       "      <td>612</td>\n",
       "      <td>653.0</td>\n",
       "      <td>24745.0</td>\n",
       "      <td>12.333333</td>\n",
       "      <td>21.0</td>\n",
       "      <td>CA</td>\n",
       "    </tr>\n",
       "    <tr>\n",
       "      <th>3992</th>\n",
       "      <td>74303</td>\n",
       "      <td>MI</td>\n",
       "      <td>M</td>\n",
       "      <td>444.000000</td>\n",
       "      <td>225</td>\n",
       "      <td>264.0</td>\n",
       "      <td>269</td>\n",
       "      <td>299.0</td>\n",
       "      <td>10088.0</td>\n",
       "      <td>17.142857</td>\n",
       "      <td>25.0</td>\n",
       "      <td>MI</td>\n",
       "    </tr>\n",
       "  </tbody>\n",
       "</table>\n",
       "<p>3993 rows × 12 columns</p>\n",
       "</div>"
      ],
      "text/plain": [
       "          ID STATE GENDER  MEDIAN_HOME_VAL  MEDIAN_HOUSEHOLD_INCOME    IC2  \\\n",
       "0      44060    FL      M      1158.437751                      392  430.0   \n",
       "1      96093    IL      M       537.000000                      365  415.0   \n",
       "2      43333    FL      F       725.000000                      301  340.0   \n",
       "3      21885    NC      M      1158.437751                      401  407.0   \n",
       "4     190108    FL      F       995.000000                      252  280.0   \n",
       "...      ...   ...    ...              ...                      ...    ...   \n",
       "3988   66762    MI      F       632.000000                      279  336.0   \n",
       "3989    6443    FL      M       595.000000                      252  263.0   \n",
       "3990  151175    CA      F      2707.000000                      507  504.0   \n",
       "3991  151504    CA      M      2666.000000                      535  609.0   \n",
       "3992   74303    MI      M       444.000000                      225  264.0   \n",
       "\n",
       "      IC3    IC4      IC5    AVGGIFT  TARGET_D CLEAN STATE  \n",
       "0     466  520.0  21975.0  28.000000     100.0          FL  \n",
       "1     410  473.0  19387.0   5.666667       7.0          IL  \n",
       "2     361  436.0  18837.0   4.111111       5.0          FL  \n",
       "3     399  413.0  14014.0  27.277778      38.0          NC  \n",
       "4     316  348.0  17991.0   6.000000       5.0          FL  \n",
       "...   ...    ...      ...        ...       ...         ...  \n",
       "3988  339  388.0  12653.0   8.533333       5.0          MI  \n",
       "3989  262  274.0  11132.0  14.692308      20.0          FL  \n",
       "3990  538  537.0  16165.0  12.117647      22.0          CA  \n",
       "3991  612  653.0  24745.0  12.333333      21.0          CA  \n",
       "3992  269  299.0  10088.0  17.142857      25.0          MI  \n",
       "\n",
       "[3993 rows x 12 columns]"
      ]
     },
     "execution_count": 110,
     "metadata": {},
     "output_type": "execute_result"
    }
   ],
   "source": [
    "mc1_shiny = clean_dataframe(mc1)\n",
    "mc1_shiny"
   ]
  }
 ],
 "metadata": {
  "kernelspec": {
   "display_name": "Python 3 (ipykernel)",
   "language": "python",
   "name": "python3"
  },
  "language_info": {
   "codemirror_mode": {
    "name": "ipython",
    "version": 3
   },
   "file_extension": ".py",
   "mimetype": "text/x-python",
   "name": "python",
   "nbconvert_exporter": "python",
   "pygments_lexer": "ipython3",
   "version": "3.10.1"
  }
 },
 "nbformat": 4,
 "nbformat_minor": 5
}
